{
 "cells": [
  {
   "cell_type": "code",
   "execution_count": 1,
   "metadata": {},
   "outputs": [
    {
     "name": "stdout",
     "output_type": "stream",
     "text": [
      "\u001b[1m1/1\u001b[0m \u001b[32m━━━━━━━━━━━━━━━━━━━━\u001b[0m\u001b[37m\u001b[0m \u001b[1m0s\u001b[0m 160ms/step\n"
     ]
    }
   ],
   "source": [
    "import cv2\n",
    "import numpy as np\n",
    "import tensorflow as tf\n",
    "from tensorflow.keras.models import load_model\n",
    "\n",
    "# Load the saved model\n",
    "model = load_model('best_model.keras')\n",
    "\n",
    "# Emotion labels\n",
    "emotion_labels = ['neutral', 'calm', 'happy', 'sad', 'angry', 'fearful', 'disgust', 'surprised']\n",
    "\n",
    "# Feature extraction for video frames\n",
    "def extract_video_features(frames, sequence_length=20):\n",
    "    # Resize frames to 112x112 to match the model's expected input\n",
    "    frames = np.array([cv2.resize(frame, (112, 112)) for frame in frames])\n",
    "    \n",
    "    # Ensure all sequences have the same length\n",
    "    if len(frames) > sequence_length:\n",
    "        frames = frames[:sequence_length]\n",
    "    elif len(frames) < sequence_length:\n",
    "        padding = np.zeros((sequence_length - len(frames), 112, 112, 3))\n",
    "        frames = np.concatenate((frames, padding))\n",
    "    \n",
    "    return frames.reshape(-1, sequence_length, 112, 112, 3)\n",
    "\n",
    "# Function to play video and predict emotion once for the entire video\n",
    "def play_video_and_predict_final_emotion(video_file):\n",
    "    cap = cv2.VideoCapture(video_file)\n",
    "    frames = []\n",
    "    SEQUENCE_LENGTH = 20  # Number of frames to use for each prediction\n",
    "\n",
    "    # Collect all frames from the video\n",
    "    while cap.isOpened():\n",
    "        ret, frame = cap.read()\n",
    "        if not ret:\n",
    "            break\n",
    "        frames.append(frame)\n",
    "\n",
    "    cap.release()\n",
    "\n",
    "    # Make a single prediction for the entire video\n",
    "    if len(frames) > 0:\n",
    "        video_features = extract_video_features(frames, sequence_length=SEQUENCE_LENGTH)\n",
    "        audio_features = np.zeros((1, 40, 44, 1))  # Placeholder for audio features; adjust as needed\n",
    "        \n",
    "        # Predict emotion for the entire video\n",
    "        prediction = model.predict([audio_features, video_features])\n",
    "        predicted_emotion = emotion_labels[np.argmax(prediction)]\n",
    "\n",
    "        # Display the video with the predicted emotion\n",
    "        for frame in frames:\n",
    "            height, width, _ = frame.shape\n",
    "            cv2.rectangle(frame, (10, height - 40), (width - 10, height - 10), (255, 255, 255), cv2.FILLED)\n",
    "            cv2.putText(frame, f'Predicted Emotion: {predicted_emotion}', (20, height - 20),\n",
    "                        cv2.FONT_HERSHEY_SIMPLEX, 0.7, (0, 0, 255), 2)\n",
    "\n",
    "            # Show frame\n",
    "            cv2.imshow('Emotion Detection', frame)\n",
    "            if cv2.waitKey(25) & 0xFF == ord('q'):\n",
    "                break\n",
    "\n",
    "    cv2.destroyAllWindows()\n",
    "\n",
    "# Example: Play a video and show the final predicted emotion\n",
    "play_video_and_predict_final_emotion('dataset/videos/Actor_16/02-02-06-01-01-01-16.mp4')\n"
   ]
  }
 ],
 "metadata": {
  "kernelspec": {
   "display_name": "revenv",
   "language": "python",
   "name": "python3"
  },
  "language_info": {
   "codemirror_mode": {
    "name": "ipython",
    "version": 3
   },
   "file_extension": ".py",
   "mimetype": "text/x-python",
   "name": "python",
   "nbconvert_exporter": "python",
   "pygments_lexer": "ipython3",
   "version": "3.11.5"
  }
 },
 "nbformat": 4,
 "nbformat_minor": 2
}
